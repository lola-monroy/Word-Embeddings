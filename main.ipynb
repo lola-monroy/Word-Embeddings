{
 "cells": [
  {
   "cell_type": "code",
   "execution_count": 10,
   "metadata": {},
   "outputs": [
    {
     "ename": "PermissionError",
     "evalue": "[Errno 13] Permission denied: 'C:/Users/Lola Monroy Mir/OneDrive/Escritorio/catalan_general_crawling'",
     "output_type": "error",
     "traceback": [
      "\u001b[1;31m---------------------------------------------------------------------------\u001b[0m",
      "\u001b[1;31mPermissionError\u001b[0m                           Traceback (most recent call last)",
      "Cell \u001b[1;32mIn[10], line 24\u001b[0m\n\u001b[0;32m     21\u001b[0m tamano_partes \u001b[38;5;241m=\u001b[39m [\u001b[38;5;241m100\u001b[39m \u001b[38;5;241m*\u001b[39m \u001b[38;5;241m1024\u001b[39m \u001b[38;5;241m*\u001b[39m \u001b[38;5;241m1024\u001b[39m, \u001b[38;5;241m500\u001b[39m \u001b[38;5;241m*\u001b[39m \u001b[38;5;241m1024\u001b[39m \u001b[38;5;241m*\u001b[39m \u001b[38;5;241m1024\u001b[39m, \u001b[38;5;241m1\u001b[39m \u001b[38;5;241m*\u001b[39m \u001b[38;5;241m1024\u001b[39m \u001b[38;5;241m*\u001b[39m \u001b[38;5;241m1024\u001b[39m \u001b[38;5;241m*\u001b[39m \u001b[38;5;241m1024\u001b[39m]  \u001b[38;5;66;03m# 100 MB, 500 MB, 1 GB\u001b[39;00m\n\u001b[0;32m     23\u001b[0m \u001b[38;5;66;03m# Llamar a la función para dividir el archivo\u001b[39;00m\n\u001b[1;32m---> 24\u001b[0m \u001b[43mdividir_archivo\u001b[49m\u001b[43m(\u001b[49m\u001b[43mruta_archivo\u001b[49m\u001b[43m,\u001b[49m\u001b[43m \u001b[49m\u001b[43mtamano_partes\u001b[49m\u001b[43m)\u001b[49m\n",
      "Cell \u001b[1;32mIn[10], line 3\u001b[0m, in \u001b[0;36mdividir_archivo\u001b[1;34m(ruta_archivo, tamano_partes)\u001b[0m\n\u001b[0;32m      1\u001b[0m \u001b[38;5;28;01mdef\u001b[39;00m \u001b[38;5;21mdividir_archivo\u001b[39m(ruta_archivo, tamano_partes):\n\u001b[0;32m      2\u001b[0m     \u001b[38;5;66;03m# Abrir el archivo en modo lectura binaria\u001b[39;00m\n\u001b[1;32m----> 3\u001b[0m     \u001b[38;5;28;01mwith\u001b[39;00m \u001b[38;5;28;43mopen\u001b[39;49m\u001b[43m(\u001b[49m\u001b[43mruta_archivo\u001b[49m\u001b[43m,\u001b[49m\u001b[43m \u001b[49m\u001b[38;5;124;43m'\u001b[39;49m\u001b[38;5;124;43mrb\u001b[39;49m\u001b[38;5;124;43m'\u001b[39;49m\u001b[43m)\u001b[49m \u001b[38;5;28;01mas\u001b[39;00m archivo_original:\n\u001b[0;32m      4\u001b[0m         contador \u001b[38;5;241m=\u001b[39m \u001b[38;5;241m1\u001b[39m\n\u001b[0;32m      5\u001b[0m         \u001b[38;5;28;01mfor\u001b[39;00m tamano_parte \u001b[38;5;129;01min\u001b[39;00m tamano_partes:\n",
      "File \u001b[1;32m~\\AppData\\Local\\Packages\\PythonSoftwareFoundation.Python.3.10_qbz5n2kfra8p0\\LocalCache\\local-packages\\Python310\\site-packages\\IPython\\core\\interactiveshell.py:286\u001b[0m, in \u001b[0;36m_modified_open\u001b[1;34m(file, *args, **kwargs)\u001b[0m\n\u001b[0;32m    279\u001b[0m \u001b[38;5;28;01mif\u001b[39;00m file \u001b[38;5;129;01min\u001b[39;00m {\u001b[38;5;241m0\u001b[39m, \u001b[38;5;241m1\u001b[39m, \u001b[38;5;241m2\u001b[39m}:\n\u001b[0;32m    280\u001b[0m     \u001b[38;5;28;01mraise\u001b[39;00m \u001b[38;5;167;01mValueError\u001b[39;00m(\n\u001b[0;32m    281\u001b[0m         \u001b[38;5;124mf\u001b[39m\u001b[38;5;124m\"\u001b[39m\u001b[38;5;124mIPython won\u001b[39m\u001b[38;5;124m'\u001b[39m\u001b[38;5;124mt let you open fd=\u001b[39m\u001b[38;5;132;01m{\u001b[39;00mfile\u001b[38;5;132;01m}\u001b[39;00m\u001b[38;5;124m by default \u001b[39m\u001b[38;5;124m\"\u001b[39m\n\u001b[0;32m    282\u001b[0m         \u001b[38;5;124m\"\u001b[39m\u001b[38;5;124mas it is likely to crash IPython. If you know what you are doing, \u001b[39m\u001b[38;5;124m\"\u001b[39m\n\u001b[0;32m    283\u001b[0m         \u001b[38;5;124m\"\u001b[39m\u001b[38;5;124myou can use builtins\u001b[39m\u001b[38;5;124m'\u001b[39m\u001b[38;5;124m open.\u001b[39m\u001b[38;5;124m\"\u001b[39m\n\u001b[0;32m    284\u001b[0m     )\n\u001b[1;32m--> 286\u001b[0m \u001b[38;5;28;01mreturn\u001b[39;00m io_open(file, \u001b[38;5;241m*\u001b[39margs, \u001b[38;5;241m*\u001b[39m\u001b[38;5;241m*\u001b[39mkwargs)\n",
      "\u001b[1;31mPermissionError\u001b[0m: [Errno 13] Permission denied: 'C:/Users/Lola Monroy Mir/OneDrive/Escritorio/catalan_general_crawling'"
     ]
    }
   ],
   "source": [
    "def dividir_archivo(ruta_archivo, tamano_partes):\n",
    "    # Abrir el archivo en modo lectura binaria\n",
    "    with open(ruta_archivo, 'rb') as archivo_original:\n",
    "        contador = 1\n",
    "        for tamano_parte in tamano_partes:\n",
    "            with open(ruta_archivo + f\"_parte{contador}.txt\", 'wb') as archivo_parte:\n",
    "                bytes_leidos = 0\n",
    "                while bytes_leidos < tamano_parte:\n",
    "                    # Leer un bloque del tamaño especificado o hasta el final del archivo\n",
    "                    contenido = archivo_original.read(min(4096, tamano_parte - bytes_leidos))\n",
    "                    if not contenido:\n",
    "                        break  # Si no hay más contenido, terminar\n",
    "                    archivo_parte.write(contenido)\n",
    "                    bytes_leidos += len(contenido)\n",
    "            contador += 1\n",
    "\n",
    "# Ruta del archivo a dividir\n",
    "# ruta_archivo = 'C:/Users/Usuario/Desktop/uni/Q4/PLH/pract4/catalan_general_crawling/corpus/catalan_general_crawling.txt'\n",
    "ruta_archivo = 'C:/Users/Lola Monroy Mir/OneDrive/Escritorio/catalan_general_crawling'\n",
    "# Tamaños deseados para cada parte (en bytes)\n",
    "tamano_partes = [100 * 1024 * 1024, 500 * 1024 * 1024, 1 * 1024 * 1024 * 1024]  # 100 MB, 500 MB, 1 GB\n",
    "\n",
    "# Llamar a la función para dividir el archivo\n",
    "dividir_archivo(ruta_archivo, tamano_partes)"
   ]
  },
  {
   "cell_type": "code",
   "execution_count": 9,
   "metadata": {},
   "outputs": [
    {
     "name": "stdout",
     "output_type": "stream",
     "text": [
      "Permission denied: Unable to access C:/Users/Lola Monroy Mir/OneDrive/Escritorio/catalan_general_crawling. Please check file permissions.\n"
     ]
    }
   ],
   "source": [
    "def dividir_archivo(ruta_archivo, tamano_partes):\n",
    "    try:\n",
    "        with open(ruta_archivo, 'rb') as archivo_original:\n",
    "            contador = 1\n",
    "            for tamano_parte in tamano_partes:\n",
    "                # Assuming you have additional logic here to process the file parts\n",
    "                pass\n",
    "    except PermissionError:\n",
    "        print(f\"Permission denied: Unable to access {ruta_archivo}. Please check file permissions.\")\n",
    "    except FileNotFoundError:\n",
    "        print(f\"File not found: {ruta_archivo} does not exist.\")\n",
    "    except Exception as e:\n",
    "        print(f\"An error occurred: {e}\")\n",
    "\n",
    "# Call the function\n",
    "ruta_archivo = r'C:/Users/Lola Monroy Mir/OneDrive/Escritorio/catalan_general_crawling'\n",
    "tamano_partes = [100 * 1024 * 1024, 500 * 1024 * 1024, 1 * 1024 * 1024 * 1024]  # Sizes in bytes\n",
    "dividir_archivo(ruta_archivo, tamano_partes)\n"
   ]
  }
 ],
 "metadata": {
  "kernelspec": {
   "display_name": "Python 3",
   "language": "python",
   "name": "python3"
  },
  "language_info": {
   "codemirror_mode": {
    "name": "ipython",
    "version": 3
   },
   "file_extension": ".py",
   "mimetype": "text/x-python",
   "name": "python",
   "nbconvert_exporter": "python",
   "pygments_lexer": "ipython3",
   "version": "3.10.11"
  }
 },
 "nbformat": 4,
 "nbformat_minor": 2
}
