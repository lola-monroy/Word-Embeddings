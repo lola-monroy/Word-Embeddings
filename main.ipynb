{
 "cells": [
  {
   "cell_type": "code",
   "execution_count": 8,
   "metadata": {},
   "outputs": [],
   "source": [
    "def dividir_archivo(ruta_archivo, tamano_partes):\n",
    "    # Abrir el archivo en modo lectura binaria\n",
    "    with open(ruta_archivo, 'rb') as archivo_original:\n",
    "        contador = 1\n",
    "        for tamano_parte in tamano_partes:\n",
    "            with open(ruta_archivo + f\"_parte{contador}.txt\", 'wb') as archivo_parte:\n",
    "                bytes_leidos = 0\n",
    "                while bytes_leidos < tamano_parte:\n",
    "                    # Leer un bloque del tamaño especificado o hasta el final del archivo\n",
    "                    contenido = archivo_original.read(min(4096, tamano_parte - bytes_leidos))\n",
    "                    if not contenido:\n",
    "                        break  # Si no hay más contenido, terminar\n",
    "                    archivo_parte.write(contenido)\n",
    "                    bytes_leidos += len(contenido)\n",
    "            contador += 1\n",
    "\n",
    "# Ruta del archivo a dividir\n",
    "# ruta_archivo = 'C:/Users/Usuario/Desktop/uni/Q4/PLH/pract4/catalan_general_crawling/corpus/catalan_general_crawling.txt'\n",
    "ruta_archivo = 'C:/Users/Lola Monroy Mir/OneDrive/Escritorio/catalan_general_crawling/corpus/catalan_general_crawling.txt'\n",
    "# Tamaños deseados para cada parte (en bytes)\n",
    "tamano_partes = [100 * 1024 * 1024, 500 * 1024 * 1024, 1 * 1024 * 1024 * 1024]  # 100 MB, 500 MB, 1 GB\n",
    "\n",
    "# Llamar a la función para dividir el archivo\n",
    "dividir_archivo(ruta_archivo, tamano_partes)"
   ]
  },
  {
   "cell_type": "code",
   "execution_count": 9,
   "metadata": {},
   "outputs": [
    {
     "name": "stdout",
     "output_type": "stream",
     "text": [
      "Permission denied: Unable to access C:/Users/Lola Monroy Mir/OneDrive/Escritorio/catalan_general_crawling. Please check file permissions.\n"
     ]
    }
   ],
   "source": [
    "def dividir_archivo(ruta_archivo, tamano_partes):\n",
    "    try:\n",
    "        with open(ruta_archivo, 'rb') as archivo_original:\n",
    "            contador = 1\n",
    "            for tamano_parte in tamano_partes:\n",
    "                # Assuming you have additional logic here to process the file parts\n",
    "                pass\n",
    "    except PermissionError:\n",
    "        print(f\"Permission denied: Unable to access {ruta_archivo}. Please check file permissions.\")\n",
    "    except FileNotFoundError:\n",
    "        print(f\"File not found: {ruta_archivo} does not exist.\")\n",
    "    except Exception as e:\n",
    "        print(f\"An error occurred: {e}\")\n",
    "\n",
    "# Call the function\n",
    "ruta_archivo = r'C:/Users/Lola Monroy Mir/OneDrive/Escritorio/catalan_general_crawling'\n",
    "tamano_partes = [100 * 1024 * 1024, 500 * 1024 * 1024, 1 * 1024 * 1024 * 1024]  # Sizes in bytes\n",
    "dividir_archivo(ruta_archivo, tamano_partes)\n"
   ]
  }
 ],
 "metadata": {
  "kernelspec": {
   "display_name": "Python 3",
   "language": "python",
   "name": "python3"
  },
  "language_info": {
   "codemirror_mode": {
    "name": "ipython",
    "version": 3
   },
   "file_extension": ".py",
   "mimetype": "text/x-python",
   "name": "python",
   "nbconvert_exporter": "python",
   "pygments_lexer": "ipython3",
   "version": "3.10.11"
  }
 },
 "nbformat": 4,
 "nbformat_minor": 2
}
